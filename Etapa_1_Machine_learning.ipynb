{
 "cells": [
  {
   "cell_type": "markdown",
   "id": "ac8382cf",
   "metadata": {},
   "source": [
    "# Etapa 1: Regresión lineal"
   ]
  },
  {
   "cell_type": "markdown",
   "id": "2fda8c9c",
   "metadata": {},
   "source": [
    "Este es un modelo de regresión lineal que permite determinar la demanda sobre el uso de un sistema de alquiler de bicicletas. Esto con el proposito de mejorar el servicio y conocer los factores que inciden en su eficiencia, con el fin de fomentar planes de movilidad sostenible que permitan reducir las emisiones de CO2."
   ]
  },
  {
   "cell_type": "markdown",
   "id": "ca7b3fc1",
   "metadata": {},
   "source": [
    "## 1. Exploración y perfilamiento de datos"
   ]
  },
  {
   "cell_type": "markdown",
   "id": "ce4798a9",
   "metadata": {},
   "source": [
    "Inicialmente se debe hacer un reconocimiento de los datos con los cuales se van a trabajar, definir la variable objetivo y conocer las variables independientes que estadisticamente esten relacionadas a dicha variable objetivo."
   ]
  },
  {
   "cell_type": "markdown",
   "id": "a1a15cb7",
   "metadata": {},
   "source": [
    "### Importación de las librerias a usar."
   ]
  },
  {
   "cell_type": "markdown",
   "id": "20c340a1",
   "metadata": {},
   "source": [
    "Se deben importar las librerias que vamos a necesitar para definir el modelo."
   ]
  },
  {
   "cell_type": "code",
   "execution_count": 1,
   "id": "c5faf999",
   "metadata": {},
   "outputs": [],
   "source": [
    "import pandas as pd\n",
    "import matplotlib.pyplot as plt\n",
    "import seaborn as sns\n",
    "import statsmodels.api as sm\n",
    "\n",
    "from scipy.stats import f_oneway\n",
    "from sklearn.model_selection import train_test_split, GridSearchCV, KFold\n",
    "from sklearn.linear_model import LinearRegression\n",
    "from sklearn.linear_model import LinearRegression, Lasso\n",
    "from sklearn.metrics import mean_squared_error, mean_absolute_error, r2_score\n",
    "from sklearn.preprocessing import PolynomialFeatures, RobustScaler\n",
    "from sklearn.pipeline import make_pipeline"
   ]
  },
  {
   "cell_type": "markdown",
   "id": "19bafdc3",
   "metadata": {},
   "source": [
    "### **Carga de datos:** \n",
    "Luego de haber importado las librerias que se necesitan para el modelo se debe cargar los datos con los cuales se va a entrenar y evaluar. **(se recomienda cargar los datos como un archivo .csv)**."
   ]
  },
  {
   "cell_type": "markdown",
   "id": "18811238",
   "metadata": {},
   "source": [
    "Para poder explorar los datos cargados usamos funciones de Python que nos permitan visualizar la cantidad de filas y columnas que tiene nuesto dataset y tambien nos proporcione información general de las variables numericas."
   ]
  },
  {
   "cell_type": "code",
   "execution_count": 2,
   "id": "0fdcb327",
   "metadata": {},
   "outputs": [
    {
     "data": {
      "text/html": [
       "<div>\n",
       "<style scoped>\n",
       "    .dataframe tbody tr th:only-of-type {\n",
       "        vertical-align: middle;\n",
       "    }\n",
       "\n",
       "    .dataframe tbody tr th {\n",
       "        vertical-align: top;\n",
       "    }\n",
       "\n",
       "    .dataframe thead th {\n",
       "        text-align: right;\n",
       "    }\n",
       "</style>\n",
       "<table border=\"1\" class=\"dataframe\">\n",
       "  <thead>\n",
       "    <tr style=\"text-align: right;\">\n",
       "      <th></th>\n",
       "      <th>season</th>\n",
       "      <th>weekday</th>\n",
       "      <th>weathersit</th>\n",
       "      <th>temp</th>\n",
       "      <th>atemp</th>\n",
       "      <th>hum</th>\n",
       "      <th>windspeed</th>\n",
       "      <th>cnt</th>\n",
       "      <th>time_of_day</th>\n",
       "    </tr>\n",
       "  </thead>\n",
       "  <tbody>\n",
       "    <tr>\n",
       "      <th>0</th>\n",
       "      <td>Winter</td>\n",
       "      <td>6</td>\n",
       "      <td>Clear</td>\n",
       "      <td>3.28</td>\n",
       "      <td>3.0014</td>\n",
       "      <td>0.81</td>\n",
       "      <td>0.0</td>\n",
       "      <td>16</td>\n",
       "      <td>Night</td>\n",
       "    </tr>\n",
       "    <tr>\n",
       "      <th>1</th>\n",
       "      <td>Winter</td>\n",
       "      <td>6</td>\n",
       "      <td>Clear</td>\n",
       "      <td>2.34</td>\n",
       "      <td>1.9982</td>\n",
       "      <td>0.80</td>\n",
       "      <td>0.0</td>\n",
       "      <td>40</td>\n",
       "      <td>Night</td>\n",
       "    </tr>\n",
       "    <tr>\n",
       "      <th>2</th>\n",
       "      <td>Winter</td>\n",
       "      <td>6</td>\n",
       "      <td>Clear</td>\n",
       "      <td>2.34</td>\n",
       "      <td>1.9982</td>\n",
       "      <td>0.80</td>\n",
       "      <td>0.0</td>\n",
       "      <td>32</td>\n",
       "      <td>Night</td>\n",
       "    </tr>\n",
       "    <tr>\n",
       "      <th>3</th>\n",
       "      <td>Winter</td>\n",
       "      <td>6</td>\n",
       "      <td>Clear</td>\n",
       "      <td>3.28</td>\n",
       "      <td>3.0014</td>\n",
       "      <td>0.75</td>\n",
       "      <td>0.0</td>\n",
       "      <td>13</td>\n",
       "      <td>Night</td>\n",
       "    </tr>\n",
       "    <tr>\n",
       "      <th>4</th>\n",
       "      <td>Winter</td>\n",
       "      <td>6</td>\n",
       "      <td>Clear</td>\n",
       "      <td>3.28</td>\n",
       "      <td>3.0014</td>\n",
       "      <td>0.75</td>\n",
       "      <td>0.0</td>\n",
       "      <td>1</td>\n",
       "      <td>Night</td>\n",
       "    </tr>\n",
       "  </tbody>\n",
       "</table>\n",
       "</div>"
      ],
      "text/plain": [
       "   season  weekday weathersit  temp   atemp   hum  windspeed  cnt time_of_day\n",
       "0  Winter        6      Clear  3.28  3.0014  0.81        0.0   16       Night\n",
       "1  Winter        6      Clear  2.34  1.9982  0.80        0.0   40       Night\n",
       "2  Winter        6      Clear  2.34  1.9982  0.80        0.0   32       Night\n",
       "3  Winter        6      Clear  3.28  3.0014  0.75        0.0   13       Night\n",
       "4  Winter        6      Clear  3.28  3.0014  0.75        0.0    1       Night"
      ]
     },
     "execution_count": 2,
     "metadata": {},
     "output_type": "execute_result"
    }
   ],
   "source": [
    "df = pd.read_csv('datos_etapa1.csv', sep=',')\n",
    "df.head()"
   ]
  },
  {
   "cell_type": "code",
   "execution_count": 3,
   "id": "6accc1e7",
   "metadata": {},
   "outputs": [
    {
     "data": {
      "text/plain": [
       "(17379, 9)"
      ]
     },
     "execution_count": 3,
     "metadata": {},
     "output_type": "execute_result"
    }
   ],
   "source": [
    "df.shape"
   ]
  },
  {
   "cell_type": "code",
   "execution_count": 4,
   "id": "e2f2eef3",
   "metadata": {},
   "outputs": [
    {
     "data": {
      "text/html": [
       "<div>\n",
       "<style scoped>\n",
       "    .dataframe tbody tr th:only-of-type {\n",
       "        vertical-align: middle;\n",
       "    }\n",
       "\n",
       "    .dataframe tbody tr th {\n",
       "        vertical-align: top;\n",
       "    }\n",
       "\n",
       "    .dataframe thead th {\n",
       "        text-align: right;\n",
       "    }\n",
       "</style>\n",
       "<table border=\"1\" class=\"dataframe\">\n",
       "  <thead>\n",
       "    <tr style=\"text-align: right;\">\n",
       "      <th></th>\n",
       "      <th>weekday</th>\n",
       "      <th>temp</th>\n",
       "      <th>atemp</th>\n",
       "      <th>hum</th>\n",
       "      <th>windspeed</th>\n",
       "      <th>cnt</th>\n",
       "    </tr>\n",
       "  </thead>\n",
       "  <tbody>\n",
       "    <tr>\n",
       "      <th>count</th>\n",
       "      <td>17379.000000</td>\n",
       "      <td>17379.000000</td>\n",
       "      <td>17379.000000</td>\n",
       "      <td>17379.000000</td>\n",
       "      <td>17379.000000</td>\n",
       "      <td>17379.000000</td>\n",
       "    </tr>\n",
       "    <tr>\n",
       "      <th>mean</th>\n",
       "      <td>3.003683</td>\n",
       "      <td>15.358397</td>\n",
       "      <td>15.401157</td>\n",
       "      <td>0.627229</td>\n",
       "      <td>12.736540</td>\n",
       "      <td>189.463088</td>\n",
       "    </tr>\n",
       "    <tr>\n",
       "      <th>std</th>\n",
       "      <td>2.005771</td>\n",
       "      <td>9.050138</td>\n",
       "      <td>11.342114</td>\n",
       "      <td>0.192930</td>\n",
       "      <td>8.196795</td>\n",
       "      <td>181.387599</td>\n",
       "    </tr>\n",
       "    <tr>\n",
       "      <th>min</th>\n",
       "      <td>0.000000</td>\n",
       "      <td>-7.060000</td>\n",
       "      <td>-16.000000</td>\n",
       "      <td>0.000000</td>\n",
       "      <td>0.000000</td>\n",
       "      <td>1.000000</td>\n",
       "    </tr>\n",
       "    <tr>\n",
       "      <th>25%</th>\n",
       "      <td>1.000000</td>\n",
       "      <td>7.980000</td>\n",
       "      <td>5.997800</td>\n",
       "      <td>0.480000</td>\n",
       "      <td>7.001500</td>\n",
       "      <td>40.000000</td>\n",
       "    </tr>\n",
       "    <tr>\n",
       "      <th>50%</th>\n",
       "      <td>3.000000</td>\n",
       "      <td>15.500000</td>\n",
       "      <td>15.996800</td>\n",
       "      <td>0.630000</td>\n",
       "      <td>12.998000</td>\n",
       "      <td>142.000000</td>\n",
       "    </tr>\n",
       "    <tr>\n",
       "      <th>75%</th>\n",
       "      <td>5.000000</td>\n",
       "      <td>23.020000</td>\n",
       "      <td>24.999200</td>\n",
       "      <td>0.780000</td>\n",
       "      <td>16.997900</td>\n",
       "      <td>281.000000</td>\n",
       "    </tr>\n",
       "    <tr>\n",
       "      <th>max</th>\n",
       "      <td>6.000000</td>\n",
       "      <td>39.000000</td>\n",
       "      <td>50.000000</td>\n",
       "      <td>1.000000</td>\n",
       "      <td>56.996900</td>\n",
       "      <td>977.000000</td>\n",
       "    </tr>\n",
       "  </tbody>\n",
       "</table>\n",
       "</div>"
      ],
      "text/plain": [
       "            weekday          temp         atemp           hum     windspeed  \\\n",
       "count  17379.000000  17379.000000  17379.000000  17379.000000  17379.000000   \n",
       "mean       3.003683     15.358397     15.401157      0.627229     12.736540   \n",
       "std        2.005771      9.050138     11.342114      0.192930      8.196795   \n",
       "min        0.000000     -7.060000    -16.000000      0.000000      0.000000   \n",
       "25%        1.000000      7.980000      5.997800      0.480000      7.001500   \n",
       "50%        3.000000     15.500000     15.996800      0.630000     12.998000   \n",
       "75%        5.000000     23.020000     24.999200      0.780000     16.997900   \n",
       "max        6.000000     39.000000     50.000000      1.000000     56.996900   \n",
       "\n",
       "                cnt  \n",
       "count  17379.000000  \n",
       "mean     189.463088  \n",
       "std      181.387599  \n",
       "min        1.000000  \n",
       "25%       40.000000  \n",
       "50%      142.000000  \n",
       "75%      281.000000  \n",
       "max      977.000000  "
      ]
     },
     "execution_count": 4,
     "metadata": {},
     "output_type": "execute_result"
    }
   ],
   "source": [
    "df.describe()"
   ]
  },
  {
   "cell_type": "markdown",
   "id": "a3b54618",
   "metadata": {},
   "source": [
    "Luego de realizar una exploración sencilla de los datos se ha definido que la variable objetivo para este modelo de regresión lineal sera la columna **\"cnt\"** que corresponde a **cantidad de biciletas rentadas**. Para definir cuales son las variables independientes que estan relacionadas (o definen) a nuestra variable objetivo se debe hacer un analisis estadistico. Algo que se puede inferir de la exploración inicial de datos es que existen **3 variables indepenientes categoricas** y **5 variables independientes numericas**."
   ]
  },
  {
   "cell_type": "markdown",
   "id": "40bdf74e",
   "metadata": {},
   "source": [
    "### **Selección de variables numericas:** \n",
    "Se procede a usar un mapa de calor para visualizar la relación que hay entre variables."
   ]
  },
  {
   "cell_type": "code",
   "execution_count": 5,
   "id": "1a17593b",
   "metadata": {
    "scrolled": true
   },
   "outputs": [
    {
     "data": {
      "text/plain": [
       "<AxesSubplot: >"
      ]
     },
     "execution_count": 5,
     "metadata": {},
     "output_type": "execute_result"
    },
    {
     "data": {
      "image/png": "[encoded data removed]",
      "text/plain": [
       "<Figure size 640x480 with 2 Axes>"
      ]
     },
     "metadata": {},
     "output_type": "display_data"
    }
   ],
   "source": [
    "sns.heatmap(df.corr(numeric_only=True))"
   ]
  },
  {
   "cell_type": "markdown",
   "id": "3d5e684e",
   "metadata": {},
   "source": [
    "En este mapa de calor podemos visualizar que las varibles que más se relacionan a la variable objetivo son **atemp** y **temp** luego de estas se encuntran las variables **windspeed** y **weekday** y por ultimo la variable **hum**, la cual tiene una relación negativa."
   ]
  },
  {
   "cell_type": "markdown",
   "id": "8ebe3561",
   "metadata": {},
   "source": [
    "### **Selección de variables categoricas:** \n",
    "Para conocer la dependencia de las variables categoricas (season', 'weathersit' y 'time_of_day') con respecto a la variable objetivo **\"cnt\"** se usara el metodo de analisis de varianza **(ANOVA)**, ya que estas variables cuentan con mas de 2 categorias.**Es importante realizar el encoded de los datos antes de realizar el análisis de ANOVA**"
   ]
  },
  {
   "cell_type": "code",
   "execution_count": 6,
   "id": "a43f19a7",
   "metadata": {
    "scrolled": true
   },
   "outputs": [
    {
     "name": "stdout",
     "output_type": "stream",
     "text": [
      "Variable independiente: season_Spring\n",
      "F-statistic: 64.24458464411748\n",
      "P-value: 1.168134896669792e-15\n",
      "La variable es significativa en relación con la variable objetivo.\n",
      "\n",
      "Variable independiente: season_Summer\n",
      "F-statistic: 408.8768376670813\n",
      "P-value: 6.952100039941956e-90\n",
      "La variable es significativa en relación con la variable objetivo.\n",
      "\n",
      "Variable independiente: season_Winter\n",
      "F-statistic: 1114.0574882272413\n",
      "P-value: 8.231700042557857e-237\n",
      "La variable es significativa en relación con la variable objetivo.\n",
      "\n",
      "Variable independiente: weathersit_Heavy Rain\n",
      "F-statistic: 1.2088193952233581\n",
      "P-value: 0.2715812954262487\n",
      "La variable no es significativa en relación con la variable objetivo.\n",
      "\n",
      "Variable independiente: weathersit_Light Rain\n",
      "F-statistic: 289.60547118812985\n",
      "P-value: 2.015540639707772e-64\n",
      "La variable es significativa en relación con la variable objetivo.\n",
      "\n",
      "Variable independiente: weathersit_Mist\n",
      "F-statistic: 38.3097590868338\n",
      "P-value: 6.171333255744615e-10\n",
      "La variable es significativa en relación con la variable objetivo.\n",
      "\n",
      "Variable independiente: time_of_day_Morning\n",
      "F-statistic: 0.2983851728902855\n",
      "P-value: 0.5849035606625977\n",
      "La variable no es significativa en relación con la variable objetivo.\n",
      "\n",
      "Variable independiente: time_of_day_Night\n",
      "F-statistic: 4387.7013695397845\n",
      "P-value: 0.0\n",
      "La variable es significativa en relación con la variable objetivo.\n",
      "\n"
     ]
    }
   ],
   "source": [
    "# Seleccionar las columnas de interés para el análisis de ANOVA\n",
    "columns_of_interest = ['season', 'weathersit', 'time_of_day', 'cnt']\n",
    "\n",
    "# Crear un DataFrame con las columnas de interés\n",
    "datos_r_subset = df[columns_of_interest]\n",
    "\n",
    "# Codificar las variables categóricas 'season', 'weathersit', 'time_of_day' en valores numéricos utilizando one-hot encoding\n",
    "datos_r_encoded = pd.get_dummies(datos_r_subset, columns=['season', 'weathersit', 'time_of_day'], drop_first=True)\n",
    "\n",
    "# Realizar un ANOVA en la variable numérica 'cnt' en relación con las variables codificadas\n",
    "independent_variables = datos_r_encoded.columns.tolist()\n",
    "independent_variables.remove('cnt')  # Eliminar la variable objetivo 'cnt'\n",
    "\n",
    "anova_results = {}\n",
    "\n",
    "for feature in independent_variables:\n",
    "    groups = [datos_r_encoded[datos_r_encoded[feature] == category]['cnt'] for category in datos_r_encoded[feature].unique()]\n",
    "    f_statistic, p_value = f_oneway(*groups)\n",
    "    anova_results[feature] = {'F-statistic': f_statistic, 'p-value': p_value}\n",
    "\n",
    "# Mostrar los resultados del ANOVA\n",
    "for feature, results in anova_results.items():\n",
    "    print(f\"Variable independiente: {feature}\")\n",
    "    print(f\"F-statistic: {results['F-statistic']}\")\n",
    "    print(f\"P-value: {results['p-value']}\")\n",
    "    if results['p-value'] < 0.05:\n",
    "        print(\"La variable es significativa en relación con la variable objetivo.\")\n",
    "    else:\n",
    "        print(\"La variable no es significativa en relación con la variable objetivo.\")\n",
    "    print()\n"
   ]
  },
  {
   "cell_type": "markdown",
   "id": "63162b92",
   "metadata": {},
   "source": [
    "### **Conclusión del analisis para la selección de las variables numericas y categoricas:** \n",
    "De acuerdo con los resultados obtenidos con el mapa de calor (que muestra la dependencia entre variables numericas) se puede definir que las variables numericas que se van a usar son; **\"temp\"** y **\"atemp\"** ya que tienen algo de relación con la variable objetivo. Por otro lado las variables categoricas que se van a usar seran; **\"season\"**, **\"weathersit\"** y **time_of_day**."
   ]
  },
  {
   "cell_type": "markdown",
   "id": "99a6eaef",
   "metadata": {},
   "source": [
    "## 2. Limpieza y preparación de los datos"
   ]
  },
  {
   "cell_type": "markdown",
   "id": "4dc422c0",
   "metadata": {},
   "source": [
    "En esta etapa se procede a limpiar los datos (eliminar valores NaN y duplicados) y prepararlos (encoded de las variables categoricas) para usarlos como parametros de entrada para el modelo. **Antes de proceder con este paso se debe definir una variable (data) en donde se almacena el conjunto de datos modificado.**"
   ]
  },
  {
   "cell_type": "code",
   "execution_count": 7,
   "id": "6b66b62e",
   "metadata": {},
   "outputs": [],
   "source": [
    "data = df"
   ]
  },
  {
   "cell_type": "markdown",
   "id": "d4fa0ff2",
   "metadata": {},
   "source": [
    "### **Eliminar valores nulos (NaN values):** \n",
    "Inicialmente se debe usar la funcion .isna() junto con la funcion .sum() para conocer si hay valores NaN presentes en alguna de las columnas."
   ]
  },
  {
   "cell_type": "code",
   "execution_count": 8,
   "id": "9140edeb",
   "metadata": {},
   "outputs": [
    {
     "data": {
      "text/plain": [
       "season         0\n",
       "weekday        0\n",
       "weathersit     0\n",
       "temp           0\n",
       "atemp          0\n",
       "hum            0\n",
       "windspeed      0\n",
       "cnt            0\n",
       "time_of_day    0\n",
       "dtype: int64"
      ]
     },
     "execution_count": 8,
     "metadata": {},
     "output_type": "execute_result"
    }
   ],
   "source": [
    "data.isna().sum()"
   ]
  },
  {
   "cell_type": "markdown",
   "id": "a2b594ed",
   "metadata": {},
   "source": [
    "Esto nos indica que no hay valores NaN dentro de las columnas, por lo tanto no se debe eliminar nada en este paso."
   ]
  },
  {
   "cell_type": "markdown",
   "id": "bd6c9be6",
   "metadata": {},
   "source": [
    "### **Eliminar valores duplicados:** \n",
    "Es importante conocer los valores duplicados, ya que si se tienen muchos datos repetidos al realizar el entrenamiento, el modelo resultante no podrá generalizar correctamente cuando deba evaluar datos nuevos, sino que estará sobreajustado o sesgado hacia los datos duplicados. Para ello usamos la función .duplicated() junto a .sum()."
   ]
  },
  {
   "cell_type": "code",
   "execution_count": 9,
   "id": "dd7af7ea",
   "metadata": {},
   "outputs": [
    {
     "data": {
      "text/plain": [
       "42"
      ]
     },
     "execution_count": 9,
     "metadata": {},
     "output_type": "execute_result"
    }
   ],
   "source": [
    "data.duplicated().sum()"
   ]
  },
  {
   "cell_type": "markdown",
   "id": "76cd2360",
   "metadata": {},
   "source": [
    "Ya que se tienen 42 valores duplicados se debe proceder a eliminarlos."
   ]
  },
  {
   "cell_type": "code",
   "execution_count": 10,
   "id": "69c809f0",
   "metadata": {},
   "outputs": [],
   "source": [
    "data.drop_duplicates(inplace=True)"
   ]
  },
  {
   "cell_type": "markdown",
   "id": "d0ac4168",
   "metadata": {},
   "source": [
    "Se usa el parametro **inplace=True** para guardar en el dataframe **\"data\"** los datos sin los valores duplicados. Sin este parametro no se veria reflejada la modificación en el dataframe."
   ]
  },
  {
   "cell_type": "markdown",
   "id": "9d72a54f",
   "metadata": {},
   "source": [
    "Usamos la funcion .info() para asegurarnos que se haya ejecutado los cambios (eliminación de duplicados) en el dataframe (data)."
   ]
  },
  {
   "cell_type": "code",
   "execution_count": 11,
   "id": "6c99603f",
   "metadata": {},
   "outputs": [
    {
     "name": "stdout",
     "output_type": "stream",
     "text": [
      "<class 'pandas.core.frame.DataFrame'>\n",
      "Int64Index: 17337 entries, 0 to 17378\n",
      "Data columns (total 9 columns):\n",
      " #   Column       Non-Null Count  Dtype  \n",
      "---  ------       --------------  -----  \n",
      " 0   season       17337 non-null  object \n",
      " 1   weekday      17337 non-null  int64  \n",
      " 2   weathersit   17337 non-null  object \n",
      " 3   temp         17337 non-null  float64\n",
      " 4   atemp        17337 non-null  float64\n",
      " 5   hum          17337 non-null  float64\n",
      " 6   windspeed    17337 non-null  float64\n",
      " 7   cnt          17337 non-null  int64  \n",
      " 8   time_of_day  17337 non-null  object \n",
      "dtypes: float64(4), int64(2), object(3)\n",
      "memory usage: 1.3+ MB\n"
     ]
    }
   ],
   "source": [
    "data.info()"
   ]
  },
  {
   "cell_type": "markdown",
   "id": "04ab783c",
   "metadata": {},
   "source": [
    "### **Eliminar variables poco revelantes:** \n",
    "Segun el analisis realizado en el paso 1 (Exploración y perfilamiento de datos) se procede a eliminar las columnas de las variables poco relevantes para el modelo (windspeed, hum y weekday)."
   ]
  },
  {
   "cell_type": "code",
   "execution_count": 12,
   "id": "fad3c1c4",
   "metadata": {},
   "outputs": [],
   "source": [
    "data = data.drop(['windspeed','hum','weekday'], axis=1)"
   ]
  },
  {
   "cell_type": "markdown",
   "id": "51d21fdf",
   "metadata": {},
   "source": [
    "Se observa el resultado con la funcion .head()"
   ]
  },
  {
   "cell_type": "code",
   "execution_count": 13,
   "id": "570004cf",
   "metadata": {},
   "outputs": [
    {
     "data": {
      "text/html": [
       "<div>\n",
       "<style scoped>\n",
       "    .dataframe tbody tr th:only-of-type {\n",
       "        vertical-align: middle;\n",
       "    }\n",
       "\n",
       "    .dataframe tbody tr th {\n",
       "        vertical-align: top;\n",
       "    }\n",
       "\n",
       "    .dataframe thead th {\n",
       "        text-align: right;\n",
       "    }\n",
       "</style>\n",
       "<table border=\"1\" class=\"dataframe\">\n",
       "  <thead>\n",
       "    <tr style=\"text-align: right;\">\n",
       "      <th></th>\n",
       "      <th>season</th>\n",
       "      <th>weathersit</th>\n",
       "      <th>temp</th>\n",
       "      <th>atemp</th>\n",
       "      <th>cnt</th>\n",
       "      <th>time_of_day</th>\n",
       "    </tr>\n",
       "  </thead>\n",
       "  <tbody>\n",
       "    <tr>\n",
       "      <th>0</th>\n",
       "      <td>Winter</td>\n",
       "      <td>Clear</td>\n",
       "      <td>3.28</td>\n",
       "      <td>3.0014</td>\n",
       "      <td>16</td>\n",
       "      <td>Night</td>\n",
       "    </tr>\n",
       "    <tr>\n",
       "      <th>1</th>\n",
       "      <td>Winter</td>\n",
       "      <td>Clear</td>\n",
       "      <td>2.34</td>\n",
       "      <td>1.9982</td>\n",
       "      <td>40</td>\n",
       "      <td>Night</td>\n",
       "    </tr>\n",
       "    <tr>\n",
       "      <th>2</th>\n",
       "      <td>Winter</td>\n",
       "      <td>Clear</td>\n",
       "      <td>2.34</td>\n",
       "      <td>1.9982</td>\n",
       "      <td>32</td>\n",
       "      <td>Night</td>\n",
       "    </tr>\n",
       "    <tr>\n",
       "      <th>3</th>\n",
       "      <td>Winter</td>\n",
       "      <td>Clear</td>\n",
       "      <td>3.28</td>\n",
       "      <td>3.0014</td>\n",
       "      <td>13</td>\n",
       "      <td>Night</td>\n",
       "    </tr>\n",
       "    <tr>\n",
       "      <th>4</th>\n",
       "      <td>Winter</td>\n",
       "      <td>Clear</td>\n",
       "      <td>3.28</td>\n",
       "      <td>3.0014</td>\n",
       "      <td>1</td>\n",
       "      <td>Night</td>\n",
       "    </tr>\n",
       "  </tbody>\n",
       "</table>\n",
       "</div>"
      ],
      "text/plain": [
       "   season weathersit  temp   atemp  cnt time_of_day\n",
       "0  Winter      Clear  3.28  3.0014   16       Night\n",
       "1  Winter      Clear  2.34  1.9982   40       Night\n",
       "2  Winter      Clear  2.34  1.9982   32       Night\n",
       "3  Winter      Clear  3.28  3.0014   13       Night\n",
       "4  Winter      Clear  3.28  3.0014    1       Night"
      ]
     },
     "execution_count": 13,
     "metadata": {},
     "output_type": "execute_result"
    }
   ],
   "source": [
    "data.head()"
   ]
  },
  {
   "cell_type": "markdown",
   "id": "eb02a0c5",
   "metadata": {},
   "source": [
    "### **Modificar las variables categoricas por valores numericos:** \n",
    "Debido a que las variables categoricas contienen valores tipo string se debe hacer un one-hot encoding para convertir estos valores en numeros (int)."
   ]
  },
  {
   "cell_type": "markdown",
   "id": "4d6ab962",
   "metadata": {},
   "source": [
    "Para esto se usa la función `get_dummies()` y se almacena el nuevo dataframe en la variable data."
   ]
  },
  {
   "cell_type": "code",
   "execution_count": 14,
   "id": "37c56e04",
   "metadata": {},
   "outputs": [],
   "source": [
    "data = pd.get_dummies(data, columns=['season','weathersit','time_of_day'], drop_first=True)"
   ]
  },
  {
   "cell_type": "markdown",
   "id": "fbb62677",
   "metadata": {},
   "source": [
    "Usamos la función `.head()` para visualizar que los cambios se hayan efectuado en el dataframe."
   ]
  },
  {
   "cell_type": "code",
   "execution_count": 15,
   "id": "9b372179",
   "metadata": {},
   "outputs": [
    {
     "data": {
      "text/html": [
       "<div>\n",
       "<style scoped>\n",
       "    .dataframe tbody tr th:only-of-type {\n",
       "        vertical-align: middle;\n",
       "    }\n",
       "\n",
       "    .dataframe tbody tr th {\n",
       "        vertical-align: top;\n",
       "    }\n",
       "\n",
       "    .dataframe thead th {\n",
       "        text-align: right;\n",
       "    }\n",
       "</style>\n",
       "<table border=\"1\" class=\"dataframe\">\n",
       "  <thead>\n",
       "    <tr style=\"text-align: right;\">\n",
       "      <th></th>\n",
       "      <th>temp</th>\n",
       "      <th>atemp</th>\n",
       "      <th>cnt</th>\n",
       "      <th>season_Spring</th>\n",
       "      <th>season_Summer</th>\n",
       "      <th>season_Winter</th>\n",
       "      <th>weathersit_Heavy Rain</th>\n",
       "      <th>weathersit_Light Rain</th>\n",
       "      <th>weathersit_Mist</th>\n",
       "      <th>time_of_day_Morning</th>\n",
       "      <th>time_of_day_Night</th>\n",
       "    </tr>\n",
       "  </thead>\n",
       "  <tbody>\n",
       "    <tr>\n",
       "      <th>0</th>\n",
       "      <td>3.28</td>\n",
       "      <td>3.0014</td>\n",
       "      <td>16</td>\n",
       "      <td>0</td>\n",
       "      <td>0</td>\n",
       "      <td>1</td>\n",
       "      <td>0</td>\n",
       "      <td>0</td>\n",
       "      <td>0</td>\n",
       "      <td>0</td>\n",
       "      <td>1</td>\n",
       "    </tr>\n",
       "    <tr>\n",
       "      <th>1</th>\n",
       "      <td>2.34</td>\n",
       "      <td>1.9982</td>\n",
       "      <td>40</td>\n",
       "      <td>0</td>\n",
       "      <td>0</td>\n",
       "      <td>1</td>\n",
       "      <td>0</td>\n",
       "      <td>0</td>\n",
       "      <td>0</td>\n",
       "      <td>0</td>\n",
       "      <td>1</td>\n",
       "    </tr>\n",
       "    <tr>\n",
       "      <th>2</th>\n",
       "      <td>2.34</td>\n",
       "      <td>1.9982</td>\n",
       "      <td>32</td>\n",
       "      <td>0</td>\n",
       "      <td>0</td>\n",
       "      <td>1</td>\n",
       "      <td>0</td>\n",
       "      <td>0</td>\n",
       "      <td>0</td>\n",
       "      <td>0</td>\n",
       "      <td>1</td>\n",
       "    </tr>\n",
       "    <tr>\n",
       "      <th>3</th>\n",
       "      <td>3.28</td>\n",
       "      <td>3.0014</td>\n",
       "      <td>13</td>\n",
       "      <td>0</td>\n",
       "      <td>0</td>\n",
       "      <td>1</td>\n",
       "      <td>0</td>\n",
       "      <td>0</td>\n",
       "      <td>0</td>\n",
       "      <td>0</td>\n",
       "      <td>1</td>\n",
       "    </tr>\n",
       "    <tr>\n",
       "      <th>4</th>\n",
       "      <td>3.28</td>\n",
       "      <td>3.0014</td>\n",
       "      <td>1</td>\n",
       "      <td>0</td>\n",
       "      <td>0</td>\n",
       "      <td>1</td>\n",
       "      <td>0</td>\n",
       "      <td>0</td>\n",
       "      <td>0</td>\n",
       "      <td>0</td>\n",
       "      <td>1</td>\n",
       "    </tr>\n",
       "  </tbody>\n",
       "</table>\n",
       "</div>"
      ],
      "text/plain": [
       "   temp   atemp  cnt  season_Spring  season_Summer  season_Winter  \\\n",
       "0  3.28  3.0014   16              0              0              1   \n",
       "1  2.34  1.9982   40              0              0              1   \n",
       "2  2.34  1.9982   32              0              0              1   \n",
       "3  3.28  3.0014   13              0              0              1   \n",
       "4  3.28  3.0014    1              0              0              1   \n",
       "\n",
       "   weathersit_Heavy Rain  weathersit_Light Rain  weathersit_Mist  \\\n",
       "0                      0                      0                0   \n",
       "1                      0                      0                0   \n",
       "2                      0                      0                0   \n",
       "3                      0                      0                0   \n",
       "4                      0                      0                0   \n",
       "\n",
       "   time_of_day_Morning  time_of_day_Night  \n",
       "0                    0                  1  \n",
       "1                    0                  1  \n",
       "2                    0                  1  \n",
       "3                    0                  1  \n",
       "4                    0                  1  "
      ]
     },
     "execution_count": 15,
     "metadata": {},
     "output_type": "execute_result"
    }
   ],
   "source": [
    "data.head()"
   ]
  },
  {
   "cell_type": "markdown",
   "id": "b3548b25",
   "metadata": {},
   "source": [
    "Y tambien `.info()` para ver que no se hayan modificado el numero de filas."
   ]
  },
  {
   "cell_type": "code",
   "execution_count": 16,
   "id": "d0b6b325",
   "metadata": {},
   "outputs": [
    {
     "name": "stdout",
     "output_type": "stream",
     "text": [
      "<class 'pandas.core.frame.DataFrame'>\n",
      "Int64Index: 17337 entries, 0 to 17378\n",
      "Data columns (total 11 columns):\n",
      " #   Column                 Non-Null Count  Dtype  \n",
      "---  ------                 --------------  -----  \n",
      " 0   temp                   17337 non-null  float64\n",
      " 1   atemp                  17337 non-null  float64\n",
      " 2   cnt                    17337 non-null  int64  \n",
      " 3   season_Spring          17337 non-null  uint8  \n",
      " 4   season_Summer          17337 non-null  uint8  \n",
      " 5   season_Winter          17337 non-null  uint8  \n",
      " 6   weathersit_Heavy Rain  17337 non-null  uint8  \n",
      " 7   weathersit_Light Rain  17337 non-null  uint8  \n",
      " 8   weathersit_Mist        17337 non-null  uint8  \n",
      " 9   time_of_day_Morning    17337 non-null  uint8  \n",
      " 10  time_of_day_Night      17337 non-null  uint8  \n",
      "dtypes: float64(2), int64(1), uint8(8)\n",
      "memory usage: 677.2 KB\n"
     ]
    }
   ],
   "source": [
    "data.info()"
   ]
  },
  {
   "cell_type": "markdown",
   "id": "c394e126",
   "metadata": {},
   "source": [
    "## 3. Construcción de un modelo de regresión polinomial"
   ]
  },
  {
   "cell_type": "markdown",
   "id": "05dd67bb",
   "metadata": {},
   "source": [
    "Luego de tener los datos ya listos para el modelo se procede a contruir un modelo de regresión lineal. Para ello debemos primero dividir las variables independientes (x) de la variable dependiente (y)"
   ]
  },
  {
   "cell_type": "code",
   "execution_count": 17,
   "id": "76cfb3f5",
   "metadata": {},
   "outputs": [],
   "source": [
    "x = data.drop(['cnt'], axis=1)\n",
    "y = data['cnt']"
   ]
  },
  {
   "cell_type": "code",
   "execution_count": 18,
   "id": "2b1fc2b1",
   "metadata": {},
   "outputs": [
    {
     "data": {
      "text/html": [
       "<div>\n",
       "<style scoped>\n",
       "    .dataframe tbody tr th:only-of-type {\n",
       "        vertical-align: middle;\n",
       "    }\n",
       "\n",
       "    .dataframe tbody tr th {\n",
       "        vertical-align: top;\n",
       "    }\n",
       "\n",
       "    .dataframe thead th {\n",
       "        text-align: right;\n",
       "    }\n",
       "</style>\n",
       "<table border=\"1\" class=\"dataframe\">\n",
       "  <thead>\n",
       "    <tr style=\"text-align: right;\">\n",
       "      <th></th>\n",
       "      <th>temp</th>\n",
       "      <th>atemp</th>\n",
       "      <th>season_Spring</th>\n",
       "      <th>season_Summer</th>\n",
       "      <th>season_Winter</th>\n",
       "      <th>weathersit_Heavy Rain</th>\n",
       "      <th>weathersit_Light Rain</th>\n",
       "      <th>weathersit_Mist</th>\n",
       "      <th>time_of_day_Morning</th>\n",
       "      <th>time_of_day_Night</th>\n",
       "    </tr>\n",
       "  </thead>\n",
       "  <tbody>\n",
       "    <tr>\n",
       "      <th>0</th>\n",
       "      <td>3.28</td>\n",
       "      <td>3.0014</td>\n",
       "      <td>0</td>\n",
       "      <td>0</td>\n",
       "      <td>1</td>\n",
       "      <td>0</td>\n",
       "      <td>0</td>\n",
       "      <td>0</td>\n",
       "      <td>0</td>\n",
       "      <td>1</td>\n",
       "    </tr>\n",
       "    <tr>\n",
       "      <th>1</th>\n",
       "      <td>2.34</td>\n",
       "      <td>1.9982</td>\n",
       "      <td>0</td>\n",
       "      <td>0</td>\n",
       "      <td>1</td>\n",
       "      <td>0</td>\n",
       "      <td>0</td>\n",
       "      <td>0</td>\n",
       "      <td>0</td>\n",
       "      <td>1</td>\n",
       "    </tr>\n",
       "    <tr>\n",
       "      <th>2</th>\n",
       "      <td>2.34</td>\n",
       "      <td>1.9982</td>\n",
       "      <td>0</td>\n",
       "      <td>0</td>\n",
       "      <td>1</td>\n",
       "      <td>0</td>\n",
       "      <td>0</td>\n",
       "      <td>0</td>\n",
       "      <td>0</td>\n",
       "      <td>1</td>\n",
       "    </tr>\n",
       "    <tr>\n",
       "      <th>3</th>\n",
       "      <td>3.28</td>\n",
       "      <td>3.0014</td>\n",
       "      <td>0</td>\n",
       "      <td>0</td>\n",
       "      <td>1</td>\n",
       "      <td>0</td>\n",
       "      <td>0</td>\n",
       "      <td>0</td>\n",
       "      <td>0</td>\n",
       "      <td>1</td>\n",
       "    </tr>\n",
       "    <tr>\n",
       "      <th>4</th>\n",
       "      <td>3.28</td>\n",
       "      <td>3.0014</td>\n",
       "      <td>0</td>\n",
       "      <td>0</td>\n",
       "      <td>1</td>\n",
       "      <td>0</td>\n",
       "      <td>0</td>\n",
       "      <td>0</td>\n",
       "      <td>0</td>\n",
       "      <td>1</td>\n",
       "    </tr>\n",
       "  </tbody>\n",
       "</table>\n",
       "</div>"
      ],
      "text/plain": [
       "   temp   atemp  season_Spring  season_Summer  season_Winter  \\\n",
       "0  3.28  3.0014              0              0              1   \n",
       "1  2.34  1.9982              0              0              1   \n",
       "2  2.34  1.9982              0              0              1   \n",
       "3  3.28  3.0014              0              0              1   \n",
       "4  3.28  3.0014              0              0              1   \n",
       "\n",
       "   weathersit_Heavy Rain  weathersit_Light Rain  weathersit_Mist  \\\n",
       "0                      0                      0                0   \n",
       "1                      0                      0                0   \n",
       "2                      0                      0                0   \n",
       "3                      0                      0                0   \n",
       "4                      0                      0                0   \n",
       "\n",
       "   time_of_day_Morning  time_of_day_Night  \n",
       "0                    0                  1  \n",
       "1                    0                  1  \n",
       "2                    0                  1  \n",
       "3                    0                  1  \n",
       "4                    0                  1  "
      ]
     },
     "execution_count": 18,
     "metadata": {},
     "output_type": "execute_result"
    }
   ],
   "source": [
    "x.head()"
   ]
  },
  {
   "cell_type": "markdown",
   "id": "db0e3db1",
   "metadata": {},
   "source": [
    "Poseriormente se dividen los datos de prueba y entrenamiento usando `train_test_split()`."
   ]
  },
  {
   "cell_type": "code",
   "execution_count": 19,
   "id": "9e7093e3",
   "metadata": {},
   "outputs": [],
   "source": [
    "x_train, x_test, y_train, y_test = train_test_split(x, y, test_size=0.2, random_state=77)"
   ]
  },
  {
   "cell_type": "markdown",
   "id": "bee0a2e0",
   "metadata": {},
   "source": [
    "### Estandarización\n",
    "\n",
    "Se crean nuevas variables a partir del modelo de referencia, para esto es importante dejar las variables en la misma escala por eso se hace uso de la clase `RobustScaler()` y se almacena en la variable **scaler**."
   ]
  },
  {
   "cell_type": "code",
   "execution_count": 20,
   "id": "275319e3",
   "metadata": {},
   "outputs": [],
   "source": [
    "scaler = RobustScaler()"
   ]
  },
  {
   "cell_type": "markdown",
   "id": "047908fe",
   "metadata": {},
   "source": [
    "Para realizar la estandarización se usa el metodo `fit_transform()` lo cual va a retornar un arreglo, pero como lo que se necesita es un Dataframe, entonces se debe almacenar la información de las columnas en una variable llamada **columns**."
   ]
  },
  {
   "cell_type": "code",
   "execution_count": 21,
   "id": "f45ac9dd",
   "metadata": {},
   "outputs": [],
   "source": [
    "columns = x_train.columns\n",
    "x_train = scaler.fit_transform(x_train)\n",
    "x_train = pd.DataFrame(x_train, columns=columns)"
   ]
  },
  {
   "cell_type": "markdown",
   "id": "0126a069",
   "metadata": {},
   "source": [
    "### Entrenamiento de un modelo de referencia\n",
    "\n",
    "Se entrena el modelo de regresión lineal sin ninguna modificación, usando los conjuntos de entrenamiento y pruebas que se definieron anteriormente:"
   ]
  },
  {
   "cell_type": "code",
   "execution_count": 22,
   "id": "b2571fab",
   "metadata": {},
   "outputs": [],
   "source": [
    "reg_lineal = LinearRegression().fit(x_train, y_train)"
   ]
  },
  {
   "cell_type": "code",
   "execution_count": 23,
   "id": "7ba26b14",
   "metadata": {},
   "outputs": [
    {
     "data": {
      "text/plain": [
       "[('temp', 104.40221395998643),\n",
       " ('atemp', 5.733928511904791),\n",
       " ('season_Spring', -31.28647806925295),\n",
       " ('season_Summer', -67.64803272318541),\n",
       " ('season_Winter', -47.274336029626824),\n",
       " ('weathersit_Heavy Rain', -54.05045904372837),\n",
       " ('weathersit_Light Rain', -81.84293062476861),\n",
       " ('weathersit_Mist', -21.53386792478922),\n",
       " ('time_of_day_Morning', -106.3329279867691),\n",
       " ('time_of_day_Night', -211.90322271865466)]"
      ]
     },
     "execution_count": 23,
     "metadata": {},
     "output_type": "execute_result"
    }
   ],
   "source": [
    "list(zip(x_train.columns, reg_lineal.coef_))"
   ]
  },
  {
   "cell_type": "markdown",
   "id": "9c8a721c",
   "metadata": {},
   "source": [
    "#### Evaluación del modelo\n",
    "\n",
    "Primero se usa la variable `scaler` para escalar las variables independientes del conjunto de pruebas. Ya que se utiliza solo la información de los datos de entrada del conjunto de datos de entrenamiento se hace uso del método `transform()` en vez del método `fit_transform()`:"
   ]
  },
  {
   "cell_type": "code",
   "execution_count": 24,
   "id": "3cf4eb7d",
   "metadata": {},
   "outputs": [],
   "source": [
    "x_test = scaler.transform(x_test)\n",
    "x_test = pd.DataFrame(x_test, columns=columns)"
   ]
  },
  {
   "cell_type": "markdown",
   "id": "f435a9f5",
   "metadata": {},
   "source": [
    "Despues de haber dejado las variables del modelo en la misma escala, se procede a evaluar el ajuste del modelo con la metrica de desviación cuadratica media (**RMSE**)."
   ]
  },
  {
   "cell_type": "code",
   "execution_count": 25,
   "id": "cf19421f",
   "metadata": {},
   "outputs": [
    {
     "name": "stdout",
     "output_type": "stream",
     "text": [
      "------ Modelo de regresión lineal simple----\n",
      "RMSE: 141.84\n"
     ]
    }
   ],
   "source": [
    "y_pred_lineal = reg_lineal.predict(x_test)\n",
    "\n",
    "print('------ Modelo de regresión lineal simple----')\n",
    "print(\"RMSE: %.2f\" % mean_squared_error(y_test, y_pred_lineal, squared=False))"
   ]
  },
  {
   "cell_type": "markdown",
   "id": "396082d7",
   "metadata": {},
   "source": [
    "Como se puede observar, el modelo de regresión lineal tiene un **RMSE de 105.85**. Veremos si es posible mejorar el rendimiento utilizando regresión polinomial."
   ]
  },
  {
   "cell_type": "markdown",
   "id": "9cd6987a",
   "metadata": {},
   "source": [
    "### Entrenamiento de un modelo de regresión polinomial\n",
    "\n",
    "Teniendo el modelo de referencia, vamos a entrenar un modelo utilizando regresión polinomial. Partiremos nuevamente desde el conjunto de datos sin estandarizar, por lo que volveremos a utilizar `train_test_split()` para volver a obtener los conjuntos de entrenamiento y pruebas originales:"
   ]
  },
  {
   "cell_type": "code",
   "execution_count": 26,
   "id": "dc2e5d07",
   "metadata": {},
   "outputs": [],
   "source": [
    "x_train, x_test, y_train, y_test = train_test_split(x, y, test_size=0.2, random_state=77)"
   ]
  },
  {
   "cell_type": "markdown",
   "id": "077a8e66",
   "metadata": {},
   "source": [
    "Usaremos los conjuntos de datos separados, pero vamos a incluir un paso adicional antes del entrenamiento, la transformación de datos."
   ]
  },
  {
   "cell_type": "markdown",
   "id": "58a2ab60",
   "metadata": {},
   "source": [
    "#### Transformación de datos (Polinomio segundo grado)\n",
    "\n",
    "En este paso ae define el grado maximo del polinomio, que en este caso sera un polinomio de grado 2, lo cual genera un nuevo conjunto de datos."
   ]
  },
  {
   "cell_type": "code",
   "execution_count": 27,
   "id": "0065d85d",
   "metadata": {},
   "outputs": [],
   "source": [
    "pf_2 = PolynomialFeatures(degree=2)"
   ]
  },
  {
   "cell_type": "markdown",
   "id": "3b0b2df2",
   "metadata": {},
   "source": [
    "Utilizaremos `fit_transform()` para modificar nuestro conjunto de variables independientes, almacenando el resultado en `x_train_pol2`:"
   ]
  },
  {
   "cell_type": "code",
   "execution_count": 28,
   "id": "1a998565",
   "metadata": {},
   "outputs": [
    {
     "data": {
      "text/plain": [
       "array([[ 1.    ,  9.86  ,  9.9974, ...,  1.    ,  0.    ,  0.    ],\n",
       "       [ 1.    , 23.96  , 26.0024, ...,  1.    ,  0.    ,  0.    ],\n",
       "       [ 1.    , 20.2   , 22.9994, ...,  0.    ,  0.    ,  1.    ],\n",
       "       ...,\n",
       "       [ 1.    ,  6.1   ,  5.9978, ...,  0.    ,  0.    ,  1.    ],\n",
       "       [ 1.    ,  8.92  ,  7.001 , ...,  1.    ,  0.    ,  0.    ],\n",
       "       [ 1.    , 17.38  , 18.0032, ...,  1.    ,  0.    ,  0.    ]])"
      ]
     },
     "execution_count": 28,
     "metadata": {},
     "output_type": "execute_result"
    }
   ],
   "source": [
    "x_train_pol2 = pf_2.fit_transform(x_train)\n",
    "x_train_pol2"
   ]
  },
  {
   "cell_type": "markdown",
   "id": "023ac5f7",
   "metadata": {},
   "source": [
    "En este conjunto de datos tenemos 6 variables independientes, por lo que usaremos `x_train_pol2.shape` para ver cuántos términos se generan:"
   ]
  },
  {
   "cell_type": "code",
   "execution_count": 29,
   "id": "45833925",
   "metadata": {},
   "outputs": [
    {
     "data": {
      "text/plain": [
       "(13869, 66)"
      ]
     },
     "execution_count": 29,
     "metadata": {},
     "output_type": "execute_result"
    }
   ],
   "source": [
    "x_train_pol2.shape"
   ]
  },
  {
   "cell_type": "markdown",
   "id": "624bb4eb",
   "metadata": {},
   "source": [
    "Como puedes observar, tenemos 66 variables que representan todas las combinaciones polinomiales en un polinomio de grado 2 con 6 variables. "
   ]
  },
  {
   "cell_type": "markdown",
   "id": "1c1d967d",
   "metadata": {},
   "source": [
    "#### Estandarización\n",
    "\n",
    "Después de realizar la transformación, aplicaremos el objeto `RobustScaler()` sobre nuestro nuevo conjunto de 66 variables, haciendo uso del método `fit_transform()`:"
   ]
  },
  {
   "cell_type": "code",
   "execution_count": 30,
   "id": "9f397496",
   "metadata": {},
   "outputs": [],
   "source": [
    "scaler_pol2 = RobustScaler()\n",
    "x_train_pol2 = scaler_pol2.fit_transform(x_train_pol2)"
   ]
  },
  {
   "cell_type": "markdown",
   "id": "e75e4767",
   "metadata": {},
   "source": [
    "#### Entrenamiento del modelo\n",
    "\n",
    "Ahora entrenaremos el modelo con los datos del conjunto de entrenamiento, almacenando el resultado en la variable `reg_polinomial`:"
   ]
  },
  {
   "cell_type": "code",
   "execution_count": 31,
   "id": "07c6d856",
   "metadata": {},
   "outputs": [],
   "source": [
    "reg_polinomial = LinearRegression().fit(x_train_pol2, y_train)"
   ]
  },
  {
   "cell_type": "markdown",
   "id": "d4436c26",
   "metadata": {},
   "source": [
    "Para realizar las predicciones, primero vamos a realizar la transformación de los datos del conjunto de pruebas: "
   ]
  },
  {
   "cell_type": "code",
   "execution_count": 32,
   "id": "7bdfd2ae",
   "metadata": {},
   "outputs": [],
   "source": [
    "x_test_pol2 = pf_2.transform(x_test)"
   ]
  },
  {
   "cell_type": "code",
   "execution_count": 33,
   "id": "be70a220",
   "metadata": {},
   "outputs": [],
   "source": [
    "x_test_pol2 = scaler_pol2.transform(x_test_pol2)"
   ]
  },
  {
   "cell_type": "markdown",
   "id": "3081e6e0",
   "metadata": {},
   "source": [
    "Luego de realizar las transformaciones pertienetes de este modelo de regresión polinomial de grado 2, se procede a evaluar el modelo con la metrica **RMSE**."
   ]
  },
  {
   "cell_type": "code",
   "execution_count": 34,
   "id": "ab7bd083",
   "metadata": {},
   "outputs": [
    {
     "name": "stdout",
     "output_type": "stream",
     "text": [
      "------ Modelo de regresión polinomial múltiple (grado 2)----\n",
      "RMSE: 139.23\n"
     ]
    }
   ],
   "source": [
    "y_pred_pol_2 = reg_polinomial.predict(x_test_pol2)\n",
    "\n",
    "print('------ Modelo de regresión polinomial múltiple (grado 2)----')\n",
    "print(\"RMSE: %.2f\" % mean_squared_error(y_test, y_pred_pol_2, squared=False))"
   ]
  },
  {
   "cell_type": "markdown",
   "id": "5ae25c2e",
   "metadata": {},
   "source": [
    "#### Transformación de datos (Polinomio de tercer grado)"
   ]
  },
  {
   "cell_type": "code",
   "execution_count": 35,
   "id": "2122f630",
   "metadata": {},
   "outputs": [],
   "source": [
    "pf_3 = PolynomialFeatures(degree=3)"
   ]
  },
  {
   "cell_type": "markdown",
   "id": "c0a0f2b9",
   "metadata": {},
   "source": [
    "Siguiendo el proceso para el modelo anterior, vamos a transformar el conjunto de entrenamiento:"
   ]
  },
  {
   "cell_type": "code",
   "execution_count": 36,
   "id": "851f06ab",
   "metadata": {},
   "outputs": [],
   "source": [
    "x_train_pol3 = pf_3.fit_transform(x_train)"
   ]
  },
  {
   "cell_type": "markdown",
   "id": "34e1caaf",
   "metadata": {},
   "source": [
    "Además, realizaremos la estandarización del nuevo conjunto de variables con otro objeto de la clase `RobustScaler()`:"
   ]
  },
  {
   "cell_type": "code",
   "execution_count": 37,
   "id": "0fbce455",
   "metadata": {},
   "outputs": [],
   "source": [
    "scaler_pol3 = RobustScaler()\n",
    "x_train_pol3 = scaler_pol3.fit_transform(x_train_pol3)"
   ]
  },
  {
   "cell_type": "markdown",
   "id": "442a0bef",
   "metadata": {},
   "source": [
    "Veremos la cantidad de variables generadas usando `x_train_pol.shape`:"
   ]
  },
  {
   "cell_type": "code",
   "execution_count": 38,
   "id": "12868b66",
   "metadata": {},
   "outputs": [
    {
     "data": {
      "text/plain": [
       "(13869, 286)"
      ]
     },
     "execution_count": 38,
     "metadata": {},
     "output_type": "execute_result"
    }
   ],
   "source": [
    "x_train_pol3.shape"
   ]
  },
  {
   "cell_type": "markdown",
   "id": "9a21c21f",
   "metadata": {},
   "source": [
    "Como puedes ver, aumentar en uno el valor del hiperparámetro aumenta la cantidad de variables de 55 a 220, lo que implica un salto considerable de complejidad. Vamos a entrenar el modelo y almacenaremos el resultado en `reg_polinomial`: "
   ]
  },
  {
   "cell_type": "code",
   "execution_count": 39,
   "id": "698af890",
   "metadata": {},
   "outputs": [],
   "source": [
    "reg_polinomial = LinearRegression().fit(x_train_pol3, y_train)"
   ]
  },
  {
   "cell_type": "markdown",
   "id": "18215d9b",
   "metadata": {},
   "source": [
    "Para evaluar el modelo vamos a transformar los datos del conjunto de pruebas:"
   ]
  },
  {
   "cell_type": "code",
   "execution_count": 40,
   "id": "d214c425",
   "metadata": {},
   "outputs": [],
   "source": [
    "x_test_pol3 = pf_3.transform(x_test)"
   ]
  },
  {
   "cell_type": "markdown",
   "id": "75524d0a",
   "metadata": {},
   "source": [
    "Y realizaremos la transformación utilizando el método `transform()` del objeto `scaler_pol3`:"
   ]
  },
  {
   "cell_type": "code",
   "execution_count": 41,
   "id": "66ab8f92",
   "metadata": {},
   "outputs": [],
   "source": [
    "x_test_pol3 = scaler_pol3.transform(x_test_pol3)"
   ]
  },
  {
   "cell_type": "markdown",
   "id": "669ce3cf",
   "metadata": {},
   "source": [
    "Finalmente, realizaremos las predicciones para el polinomio de grado 3:"
   ]
  },
  {
   "cell_type": "code",
   "execution_count": 42,
   "id": "174fde3f",
   "metadata": {},
   "outputs": [
    {
     "name": "stdout",
     "output_type": "stream",
     "text": [
      "------ Modelo de regresión polinomial múltiple (grado 3)----\n",
      "RMSE: 136.83\n"
     ]
    }
   ],
   "source": [
    "y_pred_pol_3 = reg_polinomial.predict(x_test_pol3)\n",
    "\n",
    "print('------ Modelo de regresión polinomial múltiple (grado 3)----')\n",
    "print(\"RMSE: %.2f\" % mean_squared_error(y_test, y_pred_pol_3, squared=False))"
   ]
  },
  {
   "cell_type": "markdown",
   "id": "ffe19bcf",
   "metadata": {},
   "source": [
    "## 4. Regresión regularizada de Lasso"
   ]
  },
  {
   "cell_type": "markdown",
   "id": "10e244f0",
   "metadata": {},
   "source": [
    "Lo primero que haremos es definir un objeto de tipo `Lasso()`, que puede recibir un valor del hiperparámetro `alpha`. En este caso, al cambiar su valor durante la búsqueda, no es necesario especificarlo. Sin embargo, vamos a definir el parámetro `max_iter` para aumentar el número de iteraciones y, de esa forma, ayudar a la convergencia del modelo:"
   ]
  },
  {
   "cell_type": "code",
   "execution_count": 43,
   "id": "53521d70",
   "metadata": {},
   "outputs": [],
   "source": [
    "lasso = Lasso(max_iter=2000)"
   ]
  },
  {
   "cell_type": "markdown",
   "id": "ece9a7fd",
   "metadata": {},
   "source": [
    "Ahora utilizaremos un diccionario para definir nuestro espacio de búsqueda de hiperparámetros, es decir, los valores que vamos a probar y sobre los que decidiremos cuál escoger. Almacenaremos estos valores en la variable `param_grid`:"
   ]
  },
  {
   "cell_type": "code",
   "execution_count": 44,
   "id": "4037545d",
   "metadata": {},
   "outputs": [],
   "source": [
    "param_grid = {'alpha': [1, 2, 3, 4, 5]}"
   ]
  },
  {
   "cell_type": "markdown",
   "id": "5456042f",
   "metadata": {},
   "source": [
    "Además vamos a definir un objeto de la clase `KFold()`, que nos será útil para obtener una estimación del desempeño del modelo más realista que simplemente utilizando el conjunto de pruebas. La validación cruzada k-fold es un método que toma el conjunto de entrenamiento original y lo separa en k grupos, usando uno como validación y el resto (k-1) como entrenamiento. Después de definir los grupos, entrena el modelo con el conjunto de entrenamiento y lo evalúa con el conjunto de validación, repitiendo este proceso para cada uno de los k grupos. En este caso, definiremos `k=10` y usaremos el parámetro `shuffle=True` para indicar que se cambie el orden de los datos antes de separarlos en los grupos:"
   ]
  },
  {
   "cell_type": "code",
   "execution_count": 45,
   "id": "b6f8ab47",
   "metadata": {},
   "outputs": [],
   "source": [
    "kfold = KFold(n_splits=10, shuffle=True, random_state = 77)"
   ]
  },
  {
   "cell_type": "markdown",
   "id": "728b01c7",
   "metadata": {},
   "source": [
    "A continuación, vamos a utilizar `GridSearchCV` para realizar la búsqueda exhaustiva del mejor hiperparámetro. Definiremos el algoritmo `lasso`, los valores del hiperparámetro `param_grid` y la estrategia de validación cruzada `kfold`: "
   ]
  },
  {
   "cell_type": "code",
   "execution_count": 46,
   "id": "80ca3925",
   "metadata": {},
   "outputs": [],
   "source": [
    "modelos_grid = GridSearchCV(lasso, param_grid, cv=kfold, n_jobs=-1)"
   ]
  },
  {
   "cell_type": "markdown",
   "id": "48213b42",
   "metadata": {},
   "source": [
    "Finalmente, entrenaremos los modelos con los conjuntos definidos previamente."
   ]
  },
  {
   "cell_type": "code",
   "execution_count": 47,
   "id": "75b3a520",
   "metadata": {},
   "outputs": [
    {
     "data": {
      "text/html": [
       "<style>#sk-container-id-1 {color: black;}#sk-container-id-1 pre{padding: 0;}#sk-container-id-1 div.sk-toggleable {background-color: white;}#sk-container-id-1 label.sk-toggleable__label {cursor: pointer;display: block;width: 100%;margin-bottom: 0;padding: 0.3em;box-sizing: border-box;text-align: center;}#sk-container-id-1 label.sk-toggleable__label-arrow:before {content: \"▸\";float: left;margin-right: 0.25em;color: #696969;}#sk-container-id-1 label.sk-toggleable__label-arrow:hover:before {color: black;}#sk-container-id-1 div.sk-estimator:hover label.sk-toggleable__label-arrow:before {color: black;}#sk-container-id-1 div.sk-toggleable__content {max-height: 0;max-width: 0;overflow: hidden;text-align: left;background-color: #f0f8ff;}#sk-container-id-1 div.sk-toggleable__content pre {margin: 0.2em;color: black;border-radius: 0.25em;background-color: #f0f8ff;}#sk-container-id-1 input.sk-toggleable__control:checked~div.sk-toggleable__content {max-height: 200px;max-width: 100%;overflow: auto;}#sk-container-id-1 input.sk-toggleable__control:checked~label.sk-toggleable__label-arrow:before {content: \"▾\";}#sk-container-id-1 div.sk-estimator input.sk-toggleable__control:checked~label.sk-toggleable__label {background-color: #d4ebff;}#sk-container-id-1 div.sk-label input.sk-toggleable__control:checked~label.sk-toggleable__label {background-color: #d4ebff;}#sk-container-id-1 input.sk-hidden--visually {border: 0;clip: rect(1px 1px 1px 1px);clip: rect(1px, 1px, 1px, 1px);height: 1px;margin: -1px;overflow: hidden;padding: 0;position: absolute;width: 1px;}#sk-container-id-1 div.sk-estimator {font-family: monospace;background-color: #f0f8ff;border: 1px dotted black;border-radius: 0.25em;box-sizing: border-box;margin-bottom: 0.5em;}#sk-container-id-1 div.sk-estimator:hover {background-color: #d4ebff;}#sk-container-id-1 div.sk-parallel-item::after {content: \"\";width: 100%;border-bottom: 1px solid gray;flex-grow: 1;}#sk-container-id-1 div.sk-label:hover label.sk-toggleable__label {background-color: #d4ebff;}#sk-container-id-1 div.sk-serial::before {content: \"\";position: absolute;border-left: 1px solid gray;box-sizing: border-box;top: 0;bottom: 0;left: 50%;z-index: 0;}#sk-container-id-1 div.sk-serial {display: flex;flex-direction: column;align-items: center;background-color: white;padding-right: 0.2em;padding-left: 0.2em;position: relative;}#sk-container-id-1 div.sk-item {position: relative;z-index: 1;}#sk-container-id-1 div.sk-parallel {display: flex;align-items: stretch;justify-content: center;background-color: white;position: relative;}#sk-container-id-1 div.sk-item::before, #sk-container-id-1 div.sk-parallel-item::before {content: \"\";position: absolute;border-left: 1px solid gray;box-sizing: border-box;top: 0;bottom: 0;left: 50%;z-index: -1;}#sk-container-id-1 div.sk-parallel-item {display: flex;flex-direction: column;z-index: 1;position: relative;background-color: white;}#sk-container-id-1 div.sk-parallel-item:first-child::after {align-self: flex-end;width: 50%;}#sk-container-id-1 div.sk-parallel-item:last-child::after {align-self: flex-start;width: 50%;}#sk-container-id-1 div.sk-parallel-item:only-child::after {width: 0;}#sk-container-id-1 div.sk-dashed-wrapped {border: 1px dashed gray;margin: 0 0.4em 0.5em 0.4em;box-sizing: border-box;padding-bottom: 0.4em;background-color: white;}#sk-container-id-1 div.sk-label label {font-family: monospace;font-weight: bold;display: inline-block;line-height: 1.2em;}#sk-container-id-1 div.sk-label-container {text-align: center;}#sk-container-id-1 div.sk-container {/* jupyter's `normalize.less` sets `[hidden] { display: none; }` but bootstrap.min.css set `[hidden] { display: none !important; }` so we also need the `!important` here to be able to override the default hidden behavior on the sphinx rendered scikit-learn.org. See: https://github.com/scikit-learn/scikit-learn/issues/21755 */display: inline-block !important;position: relative;}#sk-container-id-1 div.sk-text-repr-fallback {display: none;}</style><div id=\"sk-container-id-1\" class=\"sk-top-container\"><div class=\"sk-text-repr-fallback\"><pre>GridSearchCV(cv=KFold(n_splits=10, random_state=77, shuffle=True),\n",
       "             estimator=Lasso(max_iter=2000), n_jobs=-1,\n",
       "             param_grid={&#x27;alpha&#x27;: [1, 2, 3, 4, 5]})</pre><b>In a Jupyter environment, please rerun this cell to show the HTML representation or trust the notebook. <br />On GitHub, the HTML representation is unable to render, please try loading this page with nbviewer.org.</b></div><div class=\"sk-container\" hidden><div class=\"sk-item sk-dashed-wrapped\"><div class=\"sk-label-container\"><div class=\"sk-label sk-toggleable\"><input class=\"sk-toggleable__control sk-hidden--visually\" id=\"sk-estimator-id-1\" type=\"checkbox\" ><label for=\"sk-estimator-id-1\" class=\"sk-toggleable__label sk-toggleable__label-arrow\">GridSearchCV</label><div class=\"sk-toggleable__content\"><pre>GridSearchCV(cv=KFold(n_splits=10, random_state=77, shuffle=True),\n",
       "             estimator=Lasso(max_iter=2000), n_jobs=-1,\n",
       "             param_grid={&#x27;alpha&#x27;: [1, 2, 3, 4, 5]})</pre></div></div></div><div class=\"sk-parallel\"><div class=\"sk-parallel-item\"><div class=\"sk-item\"><div class=\"sk-label-container\"><div class=\"sk-label sk-toggleable\"><input class=\"sk-toggleable__control sk-hidden--visually\" id=\"sk-estimator-id-2\" type=\"checkbox\" ><label for=\"sk-estimator-id-2\" class=\"sk-toggleable__label sk-toggleable__label-arrow\">estimator: Lasso</label><div class=\"sk-toggleable__content\"><pre>Lasso(max_iter=2000)</pre></div></div></div><div class=\"sk-serial\"><div class=\"sk-item\"><div class=\"sk-estimator sk-toggleable\"><input class=\"sk-toggleable__control sk-hidden--visually\" id=\"sk-estimator-id-3\" type=\"checkbox\" ><label for=\"sk-estimator-id-3\" class=\"sk-toggleable__label sk-toggleable__label-arrow\">Lasso</label><div class=\"sk-toggleable__content\"><pre>Lasso(max_iter=2000)</pre></div></div></div></div></div></div></div></div></div></div>"
      ],
      "text/plain": [
       "GridSearchCV(cv=KFold(n_splits=10, random_state=77, shuffle=True),\n",
       "             estimator=Lasso(max_iter=2000), n_jobs=-1,\n",
       "             param_grid={'alpha': [1, 2, 3, 4, 5]})"
      ]
     },
     "execution_count": 47,
     "metadata": {},
     "output_type": "execute_result"
    }
   ],
   "source": [
    "modelos_grid.fit(x_train, y_train)"
   ]
  },
  {
   "cell_type": "markdown",
   "id": "4399b7a5",
   "metadata": {},
   "source": [
    "Obtendremos el mejor parámetro usando el atributo `best_params_`:"
   ]
  },
  {
   "cell_type": "code",
   "execution_count": 48,
   "id": "7a5bc0bd",
   "metadata": {},
   "outputs": [
    {
     "name": "stdout",
     "output_type": "stream",
     "text": [
      "Mejor parámetro:  {'alpha': 1}\n"
     ]
    }
   ],
   "source": [
    "print(\"Mejor parámetro: \", modelos_grid.best_params_)"
   ]
  },
  {
   "cell_type": "markdown",
   "id": "2c5e0faf",
   "metadata": {},
   "source": [
    "Como puedes ver, el mejor valor del hiperparámetro `alpha` es 1. Podemos obtener el mejor modelo haciendo uso del atributo `best_estimator_`, y obtendremos sus coeficientes usando el atributo `coef_`:"
   ]
  },
  {
   "cell_type": "code",
   "execution_count": 49,
   "id": "c732f10e",
   "metadata": {},
   "outputs": [
    {
     "data": {
      "text/plain": [
       "[('temp', 6.355508749637381),\n",
       " ('atemp', 0.6506256165609132),\n",
       " ('season_Spring', -14.127433190181835),\n",
       " ('season_Summer', -48.23041147198603),\n",
       " ('season_Winter', -31.61425906989949),\n",
       " ('weathersit_Heavy Rain', -0.0),\n",
       " ('weathersit_Light Rain', -65.94734411116934),\n",
       " ('weathersit_Mist', -14.253994407808605),\n",
       " ('time_of_day_Morning', -97.6176177209234),\n",
       " ('time_of_day_Night', -203.02422243213434)]"
      ]
     },
     "execution_count": 49,
     "metadata": {},
     "output_type": "execute_result"
    }
   ],
   "source": [
    "mejor_modelo = modelos_grid.best_estimator_\n",
    "list(zip(x_train.columns, mejor_modelo.coef_))"
   ]
  },
  {
   "cell_type": "markdown",
   "id": "c3f04367",
   "metadata": {},
   "source": [
    "#### Evaluación del modelo de Regresión estandarizada de Lasso\n",
    "\n",
    "Evaluamos la predicción de njuestro modelo con la metrica **RMSE**."
   ]
  },
  {
   "cell_type": "code",
   "execution_count": 50,
   "id": "2cb4cb69",
   "metadata": {},
   "outputs": [
    {
     "name": "stdout",
     "output_type": "stream",
     "text": [
      "------ Modelo de regresión Lasso----\n",
      "RMSE: 141.96\n"
     ]
    }
   ],
   "source": [
    "y_pred_lasso = mejor_modelo.predict(x_test)\n",
    "\n",
    "print('------ Modelo de regresión Lasso----')\n",
    "print(\"RMSE: %.2f\" % mean_squared_error(y_test, y_pred_lasso, squared=False))"
   ]
  },
  {
   "cell_type": "markdown",
   "id": "bd8703ea",
   "metadata": {},
   "source": [
    "## 5. Tabla comparativa de los modelos.\n",
    "\n",
    "En esta tabla comparativa se muestra las metricas de cada uno de los modelos evaluados, para poder seleccionar los 2 que obtuvieron el mejor rendimiento."
   ]
  },
  {
   "cell_type": "code",
   "execution_count": 51,
   "id": "dddbb4c0",
   "metadata": {},
   "outputs": [
    {
     "data": {
      "text/html": [
       "<style type=\"text/css\">\n",
       "#T_5f670_row2_col2, #T_5f670_row3_col2 {\n",
       "  background-color: yellow;\n",
       "}\n",
       "</style>\n",
       "<table id=\"T_5f670\">\n",
       "  <thead>\n",
       "    <tr>\n",
       "      <th class=\"blank level0\" >&nbsp;</th>\n",
       "      <th id=\"T_5f670_level0_col0\" class=\"col_heading level0 col0\" >Model</th>\n",
       "      <th id=\"T_5f670_level0_col1\" class=\"col_heading level0 col1\" >R^2</th>\n",
       "      <th id=\"T_5f670_level0_col2\" class=\"col_heading level0 col2\" >RMSE</th>\n",
       "      <th id=\"T_5f670_level0_col3\" class=\"col_heading level0 col3\" >MAE</th>\n",
       "    </tr>\n",
       "  </thead>\n",
       "  <tbody>\n",
       "    <tr>\n",
       "      <th id=\"T_5f670_level0_row0\" class=\"row_heading level0 row0\" >3</th>\n",
       "      <td id=\"T_5f670_row0_col0\" class=\"data row0 col0\" >Regresión Estandarizada de Lasso</td>\n",
       "      <td id=\"T_5f670_row0_col1\" class=\"data row0 col1\" >0.400531</td>\n",
       "      <td id=\"T_5f670_row0_col2\" class=\"data row0 col2\" >141.956755</td>\n",
       "      <td id=\"T_5f670_row0_col3\" class=\"data row0 col3\" >105.772629</td>\n",
       "    </tr>\n",
       "    <tr>\n",
       "      <th id=\"T_5f670_level0_row1\" class=\"row_heading level0 row1\" >0</th>\n",
       "      <td id=\"T_5f670_row1_col0\" class=\"data row1 col0\" >Regresión Lineal</td>\n",
       "      <td id=\"T_5f670_row1_col1\" class=\"data row1 col1\" >0.401522</td>\n",
       "      <td id=\"T_5f670_row1_col2\" class=\"data row1 col2\" >141.839446</td>\n",
       "      <td id=\"T_5f670_row1_col3\" class=\"data row1 col3\" >105.908877</td>\n",
       "    </tr>\n",
       "    <tr>\n",
       "      <th id=\"T_5f670_level0_row2\" class=\"row_heading level0 row2\" >1</th>\n",
       "      <td id=\"T_5f670_row2_col0\" class=\"data row2 col0\" >Regresión Polinomial Grado 2</td>\n",
       "      <td id=\"T_5f670_row2_col1\" class=\"data row2 col1\" >0.423316</td>\n",
       "      <td id=\"T_5f670_row2_col2\" class=\"data row2 col2\" >139.232873</td>\n",
       "      <td id=\"T_5f670_row2_col3\" class=\"data row2 col3\" >102.434062</td>\n",
       "    </tr>\n",
       "    <tr>\n",
       "      <th id=\"T_5f670_level0_row3\" class=\"row_heading level0 row3\" >2</th>\n",
       "      <td id=\"T_5f670_row3_col0\" class=\"data row3 col0\" >Regresión Polinomial Grado 3</td>\n",
       "      <td id=\"T_5f670_row3_col1\" class=\"data row3 col1\" >0.443080</td>\n",
       "      <td id=\"T_5f670_row3_col2\" class=\"data row3 col2\" >136.826243</td>\n",
       "      <td id=\"T_5f670_row3_col3\" class=\"data row3 col3\" >100.301441</td>\n",
       "    </tr>\n",
       "  </tbody>\n",
       "</table>\n"
      ],
      "text/plain": [
       "<pandas.io.formats.style.Styler at 0x1a2b1135090>"
      ]
     },
     "execution_count": 51,
     "metadata": {},
     "output_type": "execute_result"
    }
   ],
   "source": [
    "# Crear un diccionario con los valores de las métricas para cada modelo\n",
    "data = {\n",
    "    'Model': ['Regresión Lineal', 'Regresión Polinomial Grado 2', 'Regresión Polinomial Grado 3', 'Regresión Estandarizada de Lasso'],\n",
    "    'R^2': [r2_score(y_test, y_pred_lineal), r2_score(y_test, y_pred_pol_2), r2_score(y_test, y_pred_pol_3), r2_score(y_test, y_pred_lasso)], \n",
    "    'RMSE': [mean_squared_error(y_test, y_pred_lineal, squared=False), mean_squared_error(y_test, y_pred_pol_2, squared=False), mean_squared_error(y_test, y_pred_pol_3, squared=False), mean_squared_error(y_test, y_pred_lasso, squared=False)], \n",
    "    'MAE': [mean_absolute_error(y_test, y_pred_lineal), mean_absolute_error(y_test, y_pred_pol_2), mean_absolute_error(y_test, y_pred_pol_3), mean_absolute_error(y_test, y_pred_lasso)]  \n",
    "        }\n",
    "\n",
    "# Crear un DataFrame a partir del diccionario\n",
    "results_df = pd.DataFrame(data)\n",
    "\n",
    "# Ordenar el DataFrame por la métrica deseada en orden descendente\n",
    "metric_to_highlight = 'RMSE'  \n",
    "results_df = results_df.sort_values(by=metric_to_highlight, ascending=False)\n",
    "\n",
    "# Colorear las dos mejores filas\n",
    "def highlight_best(s):\n",
    "    best = s.nsmallest(2).index\n",
    "    is_best = s.index.isin(best)\n",
    "    return ['background-color: yellow' if v else '' for v in is_best]\n",
    "\n",
    "# Mostrar la tabla comparativa con las mejores filas resaltadas\n",
    "styled_df = results_df.style.apply(highlight_best, subset=[metric_to_highlight])\n",
    "styled_df"
   ]
  },
  {
   "cell_type": "markdown",
   "id": "8a1e95e1",
   "metadata": {},
   "source": [
    "Como se puede ver en la tabla los modelos que mejor rendimiento tienen son los modelos de regresión polinomial de grado 2 y 3."
   ]
  },
  {
   "cell_type": "markdown",
   "id": "1e88c6e5",
   "metadata": {},
   "source": [
    "## 6. Variables mas importantes para la predicción."
   ]
  },
  {
   "cell_type": "markdown",
   "id": "2722f58d",
   "metadata": {},
   "source": [
    "Si se entrena un modelo de regresión Lasso con un valor alto de `alpha`, la regularización puede llegar a anular los coeficientes de algunas variables. Este comportamiento permite realizar una selección de las variables menos importantes, anulando su influencia en las predicciones de la variable objetivo. Usando nuestro conjunto de datos, vamos a definir un objeto de tipo `Lasso()`, pero esta vez utilizando un valor de `alpha` de 500:"
   ]
  },
  {
   "cell_type": "code",
   "execution_count": 52,
   "id": "50edb19d",
   "metadata": {},
   "outputs": [],
   "source": [
    "lasso_sv = Lasso(alpha=500)"
   ]
  },
  {
   "cell_type": "markdown",
   "id": "0f66797d",
   "metadata": {},
   "source": [
    "Entrenaremos el modelo utilizando el conjunto de entrenamiento:"
   ]
  },
  {
   "cell_type": "code",
   "execution_count": 53,
   "id": "486da453",
   "metadata": {},
   "outputs": [
    {
     "data": {
      "text/html": [
       "<style>#sk-container-id-2 {color: black;}#sk-container-id-2 pre{padding: 0;}#sk-container-id-2 div.sk-toggleable {background-color: white;}#sk-container-id-2 label.sk-toggleable__label {cursor: pointer;display: block;width: 100%;margin-bottom: 0;padding: 0.3em;box-sizing: border-box;text-align: center;}#sk-container-id-2 label.sk-toggleable__label-arrow:before {content: \"▸\";float: left;margin-right: 0.25em;color: #696969;}#sk-container-id-2 label.sk-toggleable__label-arrow:hover:before {color: black;}#sk-container-id-2 div.sk-estimator:hover label.sk-toggleable__label-arrow:before {color: black;}#sk-container-id-2 div.sk-toggleable__content {max-height: 0;max-width: 0;overflow: hidden;text-align: left;background-color: #f0f8ff;}#sk-container-id-2 div.sk-toggleable__content pre {margin: 0.2em;color: black;border-radius: 0.25em;background-color: #f0f8ff;}#sk-container-id-2 input.sk-toggleable__control:checked~div.sk-toggleable__content {max-height: 200px;max-width: 100%;overflow: auto;}#sk-container-id-2 input.sk-toggleable__control:checked~label.sk-toggleable__label-arrow:before {content: \"▾\";}#sk-container-id-2 div.sk-estimator input.sk-toggleable__control:checked~label.sk-toggleable__label {background-color: #d4ebff;}#sk-container-id-2 div.sk-label input.sk-toggleable__control:checked~label.sk-toggleable__label {background-color: #d4ebff;}#sk-container-id-2 input.sk-hidden--visually {border: 0;clip: rect(1px 1px 1px 1px);clip: rect(1px, 1px, 1px, 1px);height: 1px;margin: -1px;overflow: hidden;padding: 0;position: absolute;width: 1px;}#sk-container-id-2 div.sk-estimator {font-family: monospace;background-color: #f0f8ff;border: 1px dotted black;border-radius: 0.25em;box-sizing: border-box;margin-bottom: 0.5em;}#sk-container-id-2 div.sk-estimator:hover {background-color: #d4ebff;}#sk-container-id-2 div.sk-parallel-item::after {content: \"\";width: 100%;border-bottom: 1px solid gray;flex-grow: 1;}#sk-container-id-2 div.sk-label:hover label.sk-toggleable__label {background-color: #d4ebff;}#sk-container-id-2 div.sk-serial::before {content: \"\";position: absolute;border-left: 1px solid gray;box-sizing: border-box;top: 0;bottom: 0;left: 50%;z-index: 0;}#sk-container-id-2 div.sk-serial {display: flex;flex-direction: column;align-items: center;background-color: white;padding-right: 0.2em;padding-left: 0.2em;position: relative;}#sk-container-id-2 div.sk-item {position: relative;z-index: 1;}#sk-container-id-2 div.sk-parallel {display: flex;align-items: stretch;justify-content: center;background-color: white;position: relative;}#sk-container-id-2 div.sk-item::before, #sk-container-id-2 div.sk-parallel-item::before {content: \"\";position: absolute;border-left: 1px solid gray;box-sizing: border-box;top: 0;bottom: 0;left: 50%;z-index: -1;}#sk-container-id-2 div.sk-parallel-item {display: flex;flex-direction: column;z-index: 1;position: relative;background-color: white;}#sk-container-id-2 div.sk-parallel-item:first-child::after {align-self: flex-end;width: 50%;}#sk-container-id-2 div.sk-parallel-item:last-child::after {align-self: flex-start;width: 50%;}#sk-container-id-2 div.sk-parallel-item:only-child::after {width: 0;}#sk-container-id-2 div.sk-dashed-wrapped {border: 1px dashed gray;margin: 0 0.4em 0.5em 0.4em;box-sizing: border-box;padding-bottom: 0.4em;background-color: white;}#sk-container-id-2 div.sk-label label {font-family: monospace;font-weight: bold;display: inline-block;line-height: 1.2em;}#sk-container-id-2 div.sk-label-container {text-align: center;}#sk-container-id-2 div.sk-container {/* jupyter's `normalize.less` sets `[hidden] { display: none; }` but bootstrap.min.css set `[hidden] { display: none !important; }` so we also need the `!important` here to be able to override the default hidden behavior on the sphinx rendered scikit-learn.org. See: https://github.com/scikit-learn/scikit-learn/issues/21755 */display: inline-block !important;position: relative;}#sk-container-id-2 div.sk-text-repr-fallback {display: none;}</style><div id=\"sk-container-id-2\" class=\"sk-top-container\"><div class=\"sk-text-repr-fallback\"><pre>Lasso(alpha=500)</pre><b>In a Jupyter environment, please rerun this cell to show the HTML representation or trust the notebook. <br />On GitHub, the HTML representation is unable to render, please try loading this page with nbviewer.org.</b></div><div class=\"sk-container\" hidden><div class=\"sk-item\"><div class=\"sk-estimator sk-toggleable\"><input class=\"sk-toggleable__control sk-hidden--visually\" id=\"sk-estimator-id-4\" type=\"checkbox\" checked><label for=\"sk-estimator-id-4\" class=\"sk-toggleable__label sk-toggleable__label-arrow\">Lasso</label><div class=\"sk-toggleable__content\"><pre>Lasso(alpha=500)</pre></div></div></div></div></div>"
      ],
      "text/plain": [
       "Lasso(alpha=500)"
      ]
     },
     "execution_count": 53,
     "metadata": {},
     "output_type": "execute_result"
    }
   ],
   "source": [
    "lasso_sv.fit(x_train, y_train)"
   ]
  },
  {
   "cell_type": "markdown",
   "id": "4fe13bd3",
   "metadata": {},
   "source": [
    "Y obtendremos los coeficientes resultantes:"
   ]
  },
  {
   "cell_type": "code",
   "execution_count": 54,
   "id": "8548c9ad",
   "metadata": {},
   "outputs": [
    {
     "data": {
      "text/plain": [
       "[('temp', 0.0),\n",
       " ('atemp', 2.4543284488294366),\n",
       " ('season_Spring', 0.0),\n",
       " ('season_Summer', 0.0),\n",
       " ('season_Winter', -0.0),\n",
       " ('weathersit_Heavy Rain', -0.0),\n",
       " ('weathersit_Light Rain', -0.0),\n",
       " ('weathersit_Mist', -0.0),\n",
       " ('time_of_day_Morning', 0.0),\n",
       " ('time_of_day_Night', -0.0)]"
      ]
     },
     "execution_count": 54,
     "metadata": {},
     "output_type": "execute_result"
    }
   ],
   "source": [
    "list(zip(x_train.columns, lasso_sv.coef_))"
   ]
  },
  {
   "cell_type": "markdown",
   "id": "a1332690",
   "metadata": {},
   "source": [
    "Segun la regresión estandarizada de Lasso nuestro modelo depende basicamente de una sola variable y esta es la variable **'atemp'**."
   ]
  },
  {
   "cell_type": "markdown",
   "id": "b237539a",
   "metadata": {},
   "source": [
    "## 7. Analisis de resultados\n",
    "\n",
    "#### 1. ¿Cuál es el grado de la transformación polinomial que fue seleccionado utilizando la técnica de validación?\n",
    "\n",
    "El grado de transformación polinomial que mejoro la predicción del modelo de regresión inicial fue el grado 3, ya que sus metricas fueron las de mejor resultado."
   ]
  },
  {
   "cell_type": "markdown",
   "id": "ed5d3156",
   "metadata": {},
   "source": [
    "#### 2. ¿Cuál fue el valor de α que fue seleccionado utilizando la técnica de validación para la regresión Lasso?\n",
    "\n",
    "El valor de alfa que da una mejor predicción para el modelo de regresión inicial es el valor de 1. Aunque este valor es muy similar al obtenido con la regresión lineal (sin transformaciones), por lo tanto no se ve mejoria al aplicar la regresión estandarizada de Lasso."
   ]
  },
  {
   "cell_type": "markdown",
   "id": "c0390420",
   "metadata": {},
   "source": [
    "#### 3. A partir de la tabla comparativa, ¿cuál modelo ofrece el mejor rendimiento sobre el conjunto test? ¿Qué interpretación puedes darles a los valores obtenidos sobre las métricas de rendimiento?\n",
    "\n",
    "El modelo que ofrece mejor rendimiento es el de regresión polinomial de tercer grado, aunque al ser de 3 grado puede tener alta complejidad y sea mas dificil entrenar el modelo dado el numero de variables que se obtienen."
   ]
  },
  {
   "cell_type": "markdown",
   "id": "f60f7061",
   "metadata": {},
   "source": [
    "#### 4. ¿Cuáles variables fueron seleccionadas con el modelo Lasso? A partir de estas, ¿qué interpretación de cara al problema puedes dar? Reflexiona sobre cómo este nuevo conocimiento podría ayudar a tomar decisiones en el contexto del problema.\n",
    "\n",
    "Según el modelo de regresion de Lasso (L1) la unica variable que me puede aportar para realizar una predicción sobre la demanda del uso de un sistema de alquiler de bicicletas es la tempertatura del día ('temp'), lo que indica que seria ideal obtener otras variables que esten mas relacionadas con el nivel de satifacción de los usuarios que usan este sistema y tambien observar los patrones en las zonas donde se tiene implementado este sistema."
   ]
  },
  {
   "cell_type": "markdown",
   "id": "af7df283",
   "metadata": {},
   "source": [
    "Desarrollado por **DANILO ALFONSO DUARTE** para la materia Principios de machine learning de la Maestria de Inteligencia Artificial. "
   ]
  }
 ],
 "metadata": {
  "kernelspec": {
   "display_name": "Python 3 (ipykernel)",
   "language": "python",
   "name": "python3"
  },
  "language_info": {
   "codemirror_mode": {
    "name": "ipython",
    "version": 3
   },
   "file_extension": ".py",
   "mimetype": "text/x-python",
   "name": "python",
   "nbconvert_exporter": "python",
   "pygments_lexer": "ipython3",
   "version": "3.11.0"
  }
 },
 "nbformat": 4,
 "nbformat_minor": 5
}
